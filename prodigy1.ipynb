{
 "cells": [
  {
   "cell_type": "code",
   "execution_count": 2,
   "metadata": {},
   "outputs": [
    {
     "name": "stdout",
     "output_type": "stream",
     "text": [
      "     Predicted Price\n",
      "0      135209.046192\n",
      "1       94345.960908\n",
      "2      189367.111107\n",
      "3      120901.492418\n",
      "4      131085.858259\n",
      "..               ...\n",
      "581    169803.920209\n",
      "582    376911.308647\n",
      "583    195906.023159\n",
      "584    133185.799896\n",
      "585    175646.113539\n",
      "\n",
      "[586 rows x 1 columns]\n"
     ]
    }
   ],
   "source": [
    "import pandas as pd\n",
    "from sklearn.model_selection import train_test_split\n",
    "from sklearn.linear_model import LinearRegression\n",
    "from sklearn.impute import SimpleImputer\n",
    "\n",
    "# Loading the dataset\n",
    "data = pd.read_csv('C:\\Users\\Nandhu Reddy\\Dropbox\\PC\\Downloads\\AmesHousing.csv')\n",
    "\n",
    "\n",
    "X = data[['1st Flr SF', '2nd Flr SF', 'Low Qual Fin SF', 'Bedroom AbvGr', 'Bsmt Full Bath', 'Bsmt Half Bath', 'Full Bath', 'Half Bath']]\n",
    "y = data['SalePrice']\n",
    "\n",
    "\n",
    "# Handle missing values (replace NaN with the mean)\n",
    "imputer = SimpleImputer(strategy='mean')\n",
    "X = imputer.fit_transform(X)\n",
    "\n",
    "\n",
    "# Split the data into training and testing sets\n",
    "X_train, X_test, y_train, y_test = train_test_split(X, y, test_size=0.2, random_state=42)\n",
    "\n",
    "\n",
    "# Create and train the linear regression model\n",
    "model = LinearRegression()\n",
    "model.fit(X_train, y_train)\n",
    "\n",
    "\n",
    "# Make predictions on the test set\n",
    "y_pred = model.predict(X_test)\n",
    "\n",
    "\n",
    "result_df = pd.DataFrame({'Predicted Price': y_pred})\n",
    "print(result_df)\n"
   ]
  },
  {
   "cell_type": "markdown",
   "metadata": {},
   "source": []
  }
 ],
 "metadata": {
  "kernelspec": {
   "display_name": "Python 3",
   "language": "python",
   "name": "python3"
  },
  "language_info": {
   "codemirror_mode": {
    "name": "ipython",
    "version": 3
   },
   "file_extension": ".py",
   "mimetype": "text/x-python",
   "name": "python",
   "nbconvert_exporter": "python",
   "pygments_lexer": "ipython3",
   "version": "3.10.5"
  }
 },
 "nbformat": 4,
 "nbformat_minor": 2
}
