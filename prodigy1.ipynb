import pandas as pd
from sklearn.model_selection import train_test_split
from sklearn.linear_model import LinearRegression
from sklearn.metrics import mean_squared_error, r2_score
from sklearn.impute import SimpleImputer

# Load the dataset
data = pd.read_csv('C:\Users\Nandhu Reddy\Dropbox\PC\Downloads\AmesHousing.csv')


# Select the relevant features
X = data[['1st Flr SF', '2nd Flr SF', 'Low Qual Fin SF', 'Bedroom AbvGr', 'Bsmt Full Bath', 'Bsmt Half Bath', 'Full Bath', 'Half Bath']]
y = data['SalePrice']


# Handle missing values (replace NaN with the mean)
imputer = SimpleImputer(strategy='mean')
X = imputer.fit_transform(X)


# Split the data into training and testing sets
X_train, X_test, y_train, y_test = train_test_split(X, y, test_size=0.2, random_state=42)


# Create and train the linear regression model
model = LinearRegression()
model.fit(X_train, y_train)


# Make predictions on the test set
y_pred = model.predict(X_test)


# Display actual and predicted prices
result_df = pd.DataFrame({'Actual Price': y_test, 'Predicted Price': y_pred})
print(result_df)
